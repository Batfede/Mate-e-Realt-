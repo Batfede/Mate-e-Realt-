{
  "nbformat": 4,
  "nbformat_minor": 0,
  "metadata": {
    "colab": {
      "provenance": [],
      "authorship_tag": "ABX9TyM6H4soYIOSY4oVO3HuO7L5",
      "include_colab_link": true
    },
    "kernelspec": {
      "name": "python3",
      "display_name": "Python 3"
    },
    "language_info": {
      "name": "python"
    }
  },
  "cells": [
    {
      "cell_type": "markdown",
      "metadata": {
        "id": "view-in-github",
        "colab_type": "text"
      },
      "source": [
        "<a href=\"https://colab.research.google.com/github/Batfede/Mate-e-Realt-/blob/main/Matematica_e_Realt%C3%A0.ipynb\" target=\"_parent\"><img src=\"https://colab.research.google.com/assets/colab-badge.svg\" alt=\"Open In Colab\"/></a>"
      ]
    },
    {
      "cell_type": "code",
      "execution_count": null,
      "metadata": {
        "id": "ovmjULztEq-R"
      },
      "outputs": [],
      "source": [
        "import numpy as np\n",
        "from scipy.optimize import least_squares\n",
        "from scipy.integrate import quad\n",
        "import matplotlib.pyplot as plt"
      ]
    },
    {
      "cell_type": "code",
      "source": [
        "def rational_function(parameters, x):\n",
        "  a, b, c, d = parameters\n",
        "  return (a*x**2 + b*x)/(c*x + d)"
      ],
      "metadata": {
        "id": "g6gCDndeFHCc"
      },
      "execution_count": null,
      "outputs": []
    },
    {
      "cell_type": "markdown",
      "source": [
        "Ora creiamo una funzione che approssima l'errore fra il valore atteso e quello voluto (dati 4 punti dati) e che rispetti l'introito complessivo"
      ],
      "metadata": {
        "id": "yno71-XgFhpv"
      }
    },
    {
      "cell_type": "code",
      "source": [
        "total_tax_payers = 42e6\n",
        "distribution = {\"low\": 32.5e6, \"mid\": 7.6e6, \"high\": 1.9e6}\n",
        "\n",
        "def N(x):\n",
        "  if x <= 28000:\n",
        "    return distribution[\"low\"]/28000\n",
        "  elif x <= 50000:\n",
        "    return distribution[\"mid\"]/(50000 - 28000)\n",
        "  elif x <= 200000:\n",
        "    return distribution[\"high\"]/(200000-50000)\n",
        "  else:\n",
        "    return 0\n",
        "\n",
        "def total_revenue_function(parameters):\n",
        "    return quad(lambda x: rational_function(parameters, x) * N(x), 0, 200000)[0]\n",
        "\n",
        "def total_error_function(parameters, x_input, y_input, target_revenue):\n",
        "  a, b, c, d = parameters\n",
        "  # errore nei punti dati\n",
        "  error_points =  rational_function(parameters, x_input) - y_input\n",
        "  # errore nell'introito complessivo\n",
        "  revenue = total_revenue_function(parameters)\n",
        "  error_revenue = (revenue - target_revenue) / target_revenue\n",
        "\n",
        "  return np.append(error_points, error_revenue)\n"
      ],
      "metadata": {
        "id": "7OHzXtvDFfdr"
      },
      "execution_count": null,
      "outputs": []
    },
    {
      "cell_type": "code",
      "source": [
        "x_input = np.array([0, 28000, 50000, 200000])\n",
        "y_input = np.array([0, 6400, 14140, 78640])\n",
        "target_revenue = 63e9\n",
        "\n",
        "initial_params = np.array([1e-5, 1, 1e-5, 1])"
      ],
      "metadata": {
        "id": "YQw4uVY-F4bS"
      },
      "execution_count": null,
      "outputs": []
    },
    {
      "cell_type": "code",
      "source": [
        "result = least_squares(total_error_function, initial_params, args=(x_input, y_input, target_revenue))"
      ],
      "metadata": {
        "colab": {
          "base_uri": "https://localhost:8080/"
        },
        "id": "7p08R6muGAV3",
        "outputId": "a64486e3-5c71-4643-c602-fbb79be277b1"
      },
      "execution_count": null,
      "outputs": [
        {
          "output_type": "stream",
          "name": "stderr",
          "text": [
            "<ipython-input-4-354005266bb5>:15: IntegrationWarning: The maximum number of subdivisions (50) has been achieved.\n",
            "  If increasing the limit yields no improvement it is advised to analyze \n",
            "  the integrand in order to determine the difficulties.  If the position of a \n",
            "  local difficulty can be determined (singularity, discontinuity) one will \n",
            "  probably gain from splitting up the interval and calling the integrator \n",
            "  on the subranges.  Perhaps a special-purpose integrator should be used.\n",
            "  return quad(lambda x: rational_function(parameters, x) * N(x), 0, 200000)[0]\n",
            "<ipython-input-4-354005266bb5>:15: IntegrationWarning: The integral is probably divergent, or slowly convergent.\n",
            "  return quad(lambda x: rational_function(parameters, x) * N(x), 0, 200000)[0]\n"
          ]
        }
      ]
    },
    {
      "cell_type": "code",
      "source": [
        "a, b, c, d = result.x\n",
        "\n",
        "print(\"a:\", a, \"b:\", b, \"c:\", c, \"d:\", d)"
      ],
      "metadata": {
        "colab": {
          "base_uri": "https://localhost:8080/"
        },
        "id": "bXMduj5dGMi2",
        "outputId": "62a17ce7-11c7-41d9-8601-368ba45d987c"
      },
      "execution_count": null,
      "outputs": [
        {
          "output_type": "stream",
          "name": "stdout",
          "text": [
            "a: 1.9836913339230267e-05 b: 0.16116784642651738 c: 4.2818267886960074e-05 d: 1.9362205836157114\n"
          ]
        }
      ]
    },
    {
      "cell_type": "markdown",
      "source": [
        "Ora visualizziamo la funzione"
      ],
      "metadata": {
        "id": "GjfP1i2lGXMA"
      }
    },
    {
      "cell_type": "code",
      "source": [
        "x_values = np.arange(0.0, max(x_input) + 100000, 0.01)\n",
        "\n",
        "plt.plot(x_values, rational_function(result.x, x_values))\n",
        "plt.scatter(x_input, y_input, color = \"red\")\n",
        "plt.xlabel(\"reddito\")\n",
        "plt.ylabel(\"imposta\")\n",
        "plt.title(\"Funzione continua Irpef\")\n",
        "\n",
        "plt.show()\n"
      ],
      "metadata": {
        "colab": {
          "base_uri": "https://localhost:8080/",
          "height": 472
        },
        "id": "CCNNWR58GZvK",
        "outputId": "90684295-271b-49ca-ed9a-73dc8613fe7c"
      },
      "execution_count": null,
      "outputs": [
        {
          "output_type": "display_data",
          "data": {
            "text/plain": [
              "<Figure size 640x480 with 1 Axes>"
            ],
            "image/png": "[encoded data removed]"
          },
          "metadata": {}
        }
      ]
    }
  ]
}